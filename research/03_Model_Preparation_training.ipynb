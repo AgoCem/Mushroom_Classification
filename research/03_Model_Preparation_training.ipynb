{
 "cells": [
  {
   "cell_type": "code",
   "execution_count": 1,
   "metadata": {},
   "outputs": [],
   "source": [
    "import os\n",
    "os.chdir(\"../\")"
   ]
  },
  {
   "cell_type": "code",
   "execution_count": 2,
   "metadata": {},
   "outputs": [],
   "source": [
    "import numpy as np\n",
    "import pandas as pd\n",
    "from sklearn.linear_model import LogisticRegression\n",
    "from sklearn.ensemble import RandomForestClassifier\n",
    "from sklearn.svm import SVC\n",
    "from sklearn.model_selection import GridSearchCV"
   ]
  },
  {
   "cell_type": "code",
   "execution_count": 3,
   "metadata": {},
   "outputs": [],
   "source": [
    "from dataclasses import dataclass\n",
    "from pathlib import Path\n",
    "\n",
    "@dataclass(frozen=True)\n",
    "class ModelPreparationTrainingConfig:\n",
    "    root_dir: Path\n",
    "    save_models: Path\n",
    "    param_target_col: str\n",
    "    param_random_state: int\n",
    "    param_n_estimators: list\n",
    "    param_c_svc: list\n",
    "    param_gamma_svc: list\n",
    "    param_c_log_reg: list\n",
    "    param_number_cv: int"
   ]
  },
  {
   "cell_type": "code",
   "execution_count": 4,
   "metadata": {},
   "outputs": [],
   "source": [
    "from Mushroom_Classification.utils.common import create_directories, read_yaml, save_object, read_file\n",
    "from Mushroom_Classification.constants import *\n",
    "from Mushroom_Classification import logger"
   ]
  },
  {
   "cell_type": "code",
   "execution_count": 5,
   "metadata": {},
   "outputs": [],
   "source": [
    "class ConfigurationManager:\n",
    "    def __init__(self,\n",
    "                 config_filepath = CONFIG_FILE_PATH,\n",
    "                 params_filepath = PARAMS_FILE_PATH):\n",
    "        self.config = read_yaml(config_filepath)\n",
    "        self.params = read_yaml(params_filepath)\n",
    "\n",
    "        create_directories([self.config.artifacts_root]) #the artifacts_root is the key of the dictionary created\n",
    "                                                # in the yaml file and we can read this key like that instead of\n",
    "                                                # [\"artifacts_root\"] because we used the ConfigBox in the common.py file\n",
    "\n",
    "\n",
    "    def get_model_preparation_training_config(self) -> ModelPreparationTrainingConfig:\n",
    "        config = self.config.model_preparation_training #model_preparation_training is the other key value of the dictionary in the config.yaml file\n",
    "\n",
    "        create_directories([config.root_dir,config.save_models])\n",
    "\n",
    "        model_preparation_training_config = ModelPreparationTrainingConfig(\n",
    "            root_dir=config.root_dir,\n",
    "            save_models= config.save_models,\n",
    "            param_target_col=self.params.TARGET,\n",
    "            param_random_state=self.params.RANDOM_STATE,\n",
    "            param_n_estimators=self.params.N_ESTIMATORS,\n",
    "            param_c_svc=self.params.C_SVC,\n",
    "            param_gamma_svc=self.params.GAMMA_SVC,\n",
    "            param_c_log_reg=self.params.C_LOG_REG,\n",
    "            param_number_cv=self.params.NUMBER_CV\n",
    "        )                                     \n",
    "\n",
    "        return model_preparation_training_config"
   ]
  },
  {
   "cell_type": "code",
   "execution_count": 16,
   "metadata": {},
   "outputs": [],
   "source": [
    "class ModelPreparationTraining:\n",
    "    def __init__(self, config: ModelPreparationTrainingConfig):\n",
    "        self.config = config\n",
    "\n",
    "\n",
    "    def model_preparation_training(self):\n",
    "        \"\"\"Stage of model preparation and training\"\"\"\n",
    "\n",
    "        train_file = \"train.csv\"\n",
    "        train_pca_file = \"train_pca.csv\"\n",
    "\n",
    "        train = read_file(Path(self.config.root_dir),train_file)\n",
    "        train_pca = read_file(Path(self.config.root_dir),train_pca_file)\n",
    "        X_train = train.drop(columns=self.config.param_target_col, axis = 1)\n",
    "        y_train = train[self.config.param_target_col]\n",
    "        X_train_pca = train_pca.drop(columns=self.config.param_target_col, axis = 1)\n",
    "        y_train_pca = train_pca[self.config.param_target_col]\n",
    "\n",
    "\n",
    "        model_params = {\n",
    "                'rnd_for':{\n",
    "                    'model' : RandomForestClassifier(random_state=self.config.param_random_state),\n",
    "                    'params':{\n",
    "                        'n_estimators':self.config.param_n_estimators\n",
    "                    }\n",
    "                },\n",
    "                'log_reg':{\n",
    "                    'model': LogisticRegression(max_iter = 5000),\n",
    "                    'params': {\n",
    "                        'C':self.config.param_c_log_reg\n",
    "                    }\n",
    "                },\n",
    "                'svm':{\n",
    "                    'model': SVC(),\n",
    "                    'params':{\n",
    "                        'gamma':self.config.param_gamma_svc,\n",
    "                        'C':self.config.param_c_svc\n",
    "                    }\n",
    "                }\n",
    "                }\n",
    "        \n",
    "        best_models=[]\n",
    "\n",
    "        logger.info(\"Performing GridSearch\\n\")\n",
    "\n",
    "        for model,model_param in model_params.items():\n",
    "            grid = GridSearchCV(model_param['model'], model_param['params'], cv = 5)\n",
    "            grid.fit(X_train,y_train)\n",
    "            best_models.append({\n",
    "                'model':model,\n",
    "                'best_params':grid.best_params_,\n",
    "                'best_score':grid.best_score_\n",
    "            })\n",
    "\n",
    "        best_model_df = pd.DataFrame(best_models)\n",
    "        ind = max(best_model_df.best_score.index)\n",
    "        model =best_model_df.iloc[ind][\"model\"]\n",
    "        param =best_model_df.iloc[ind][\"best_params\"]\n",
    "        models = {\n",
    "                'rnd_for': RandomForestClassifier(random_state=self.config.param_random_state),\n",
    "                'log_reg': LogisticRegression(max_iter = 5000),\n",
    "                'svm':SVC(),\n",
    "                }\n",
    "        logger.info(f\"The chosen model is {model} with the following parameters: {param}\")\n",
    "        final_model = models[best_model_df.iloc[ind][\"model\"]]\n",
    "        final_model.set_params(**param)\n",
    "        final_model.fit(X_train,y_train)\n",
    "        save_object(Path(self.config.save_models),final_model,\"best_model.pkl\")\n",
    "\n",
    "        final_model_pca = models[best_model_df.iloc[ind][\"model\"]]\n",
    "        final_model_pca.set_params(**param)\n",
    "        final_model_pca.fit(X_train_pca,y_train_pca)\n",
    "        save_object(Path(self.config.save_models),final_model,\"pca_model.pkl\")\n",
    "\n",
    "        return None\n"
   ]
  },
  {
   "cell_type": "code",
   "execution_count": 17,
   "metadata": {},
   "outputs": [
    {
     "name": "stdout",
     "output_type": "stream",
     "text": [
      "[2024-06-17 23:12:37,951: INFO: common: yaml file: config\\config.yaml loaded successfully]\n",
      "[2024-06-17 23:12:37,952: INFO: common: yaml file: params.yaml loaded successfully]\n",
      "[2024-06-17 23:12:37,952: INFO: common: The directory artifacts already exists]\n",
      "[2024-06-17 23:12:37,952: INFO: common: The directory artifacts/training already exists]\n",
      "[2024-06-17 23:12:37,952: INFO: common: The directory artifacts/models already exists]\n",
      "[2024-06-17 23:12:37,971: INFO: 2399315960: Performing GridSearch\n",
      "]\n",
      "[2024-06-17 23:12:42,665: INFO: 2399315960: The chosen model is svm with the following parameters: {'C': 0.01, 'gamma': 0.1}]\n"
     ]
    }
   ],
   "source": [
    "try:\n",
    "    config = ConfigurationManager()\n",
    "    model_preparation_training_config = config.get_model_preparation_training_config()\n",
    "    model_preparation_training = ModelPreparationTraining(config=model_preparation_training_config)\n",
    "    model_preparation_training.model_preparation_training()\n",
    "    \n",
    "except Exception as e:\n",
    "    raise e"
   ]
  }
 ],
 "metadata": {
  "kernelspec": {
   "display_name": "Python 3",
   "language": "python",
   "name": "python3"
  },
  "language_info": {
   "codemirror_mode": {
    "name": "ipython",
    "version": 3
   },
   "file_extension": ".py",
   "mimetype": "text/x-python",
   "name": "python",
   "nbconvert_exporter": "python",
   "pygments_lexer": "ipython3",
   "version": "3.11.9"
  }
 },
 "nbformat": 4,
 "nbformat_minor": 2
}
